{
 "cells": [
  {
   "cell_type": "markdown",
   "metadata": {},
   "source": [
    "# Medical Appointment No-Shows: Exploratory Data Analysis\n",
    "\n",
    "This notebook sets about to look at the variables in the <u>'Medical Appointment No-Shows'</u> dataset provided on Kaggle by Aquarela Advanced Analytics. We will explore how both the provided and engineered features interact with our target column, the 'no-shows' designation to determine which features should be included in our binary classification modelling. "
   ]
  },
  {
   "cell_type": "code",
   "execution_count": 1,
   "metadata": {},
   "outputs": [],
   "source": [
    "import pandas as pd\n",
    "import numpy as np\n",
    "import matplotlib.pyplot as plt\n",
    "import seaborn as sns"
   ]
  },
  {
   "cell_type": "markdown",
   "metadata": {},
   "source": [
    "As a reminder, we have the following information in our dataset:\n",
    "\n",
    "\n",
    "|Features|Engineered Features| \n",
    "|:-----|:-------| \n",
    "|PatientId, AppointmentID, Gender, Age, Neighbourhood, Scholarship, Hipertension, Diabetes, Alcoholism, Handcap, SMS_received, No-show|ScheduledDay, AppointmentDay, ScheduledTime, Sched_to_App_Time, App_DoW, Num_Apps, Num_NS|\n",
    "\n",
    "<br>\n",
    "\n",
    "We will first examine numeric features followed by categorical features. We will finish off with a heatmap of our variables' correlation with no-shows. Let's start off by reading in our cleaned dataframe.\n"
   ]
  },
  {
   "cell_type": "code",
   "execution_count": 2,
   "metadata": {},
   "outputs": [
    {
     "data": {
      "text/html": [
       "<div>\n",
       "<style scoped>\n",
       "    .dataframe tbody tr th:only-of-type {\n",
       "        vertical-align: middle;\n",
       "    }\n",
       "\n",
       "    .dataframe tbody tr th {\n",
       "        vertical-align: top;\n",
       "    }\n",
       "\n",
       "    .dataframe thead th {\n",
       "        text-align: right;\n",
       "    }\n",
       "</style>\n",
       "<table border=\"1\" class=\"dataframe\">\n",
       "  <thead>\n",
       "    <tr style=\"text-align: right;\">\n",
       "      <th></th>\n",
       "      <th>PatientId</th>\n",
       "      <th>AppointmentID</th>\n",
       "      <th>Gender</th>\n",
       "      <th>ScheduledDay</th>\n",
       "      <th>AppointmentDay</th>\n",
       "      <th>Age</th>\n",
       "      <th>Neighbourhood</th>\n",
       "      <th>Scholarship</th>\n",
       "      <th>Hipertension</th>\n",
       "      <th>Diabetes</th>\n",
       "      <th>Alcoholism</th>\n",
       "      <th>Handcap</th>\n",
       "      <th>SMS_received</th>\n",
       "      <th>No-show</th>\n",
       "      <th>ScheduledTime</th>\n",
       "      <th>Sched_to_App_Time</th>\n",
       "      <th>App_DoW</th>\n",
       "      <th>Num_Apps</th>\n",
       "      <th>Num_NS</th>\n",
       "    </tr>\n",
       "  </thead>\n",
       "  <tbody>\n",
       "    <tr>\n",
       "      <th>0</th>\n",
       "      <td>2.987250e+13</td>\n",
       "      <td>5642903</td>\n",
       "      <td>F</td>\n",
       "      <td>2016-04-29</td>\n",
       "      <td>2016-04-29</td>\n",
       "      <td>62</td>\n",
       "      <td>JARDIM DA PENHA</td>\n",
       "      <td>0</td>\n",
       "      <td>1</td>\n",
       "      <td>0</td>\n",
       "      <td>0</td>\n",
       "      <td>0</td>\n",
       "      <td>0</td>\n",
       "      <td>0</td>\n",
       "      <td>15:38:08</td>\n",
       "      <td>0</td>\n",
       "      <td>Friday</td>\n",
       "      <td>2</td>\n",
       "      <td>0</td>\n",
       "    </tr>\n",
       "    <tr>\n",
       "      <th>1</th>\n",
       "      <td>5.589978e+14</td>\n",
       "      <td>5642503</td>\n",
       "      <td>M</td>\n",
       "      <td>2016-04-29</td>\n",
       "      <td>2016-04-29</td>\n",
       "      <td>56</td>\n",
       "      <td>JARDIM DA PENHA</td>\n",
       "      <td>0</td>\n",
       "      <td>0</td>\n",
       "      <td>0</td>\n",
       "      <td>0</td>\n",
       "      <td>0</td>\n",
       "      <td>0</td>\n",
       "      <td>0</td>\n",
       "      <td>13:08:27</td>\n",
       "      <td>0</td>\n",
       "      <td>Friday</td>\n",
       "      <td>2</td>\n",
       "      <td>0</td>\n",
       "    </tr>\n",
       "    <tr>\n",
       "      <th>2</th>\n",
       "      <td>4.262962e+12</td>\n",
       "      <td>5642549</td>\n",
       "      <td>F</td>\n",
       "      <td>2016-04-29</td>\n",
       "      <td>2016-04-29</td>\n",
       "      <td>62</td>\n",
       "      <td>MATA DA PRAIA</td>\n",
       "      <td>0</td>\n",
       "      <td>0</td>\n",
       "      <td>0</td>\n",
       "      <td>0</td>\n",
       "      <td>0</td>\n",
       "      <td>0</td>\n",
       "      <td>0</td>\n",
       "      <td>13:19:04</td>\n",
       "      <td>0</td>\n",
       "      <td>Friday</td>\n",
       "      <td>2</td>\n",
       "      <td>0</td>\n",
       "    </tr>\n",
       "    <tr>\n",
       "      <th>3</th>\n",
       "      <td>8.679512e+11</td>\n",
       "      <td>5642828</td>\n",
       "      <td>F</td>\n",
       "      <td>2016-04-29</td>\n",
       "      <td>2016-04-29</td>\n",
       "      <td>8</td>\n",
       "      <td>PONTAL DE CAMBURI</td>\n",
       "      <td>0</td>\n",
       "      <td>0</td>\n",
       "      <td>0</td>\n",
       "      <td>0</td>\n",
       "      <td>0</td>\n",
       "      <td>0</td>\n",
       "      <td>0</td>\n",
       "      <td>14:29:31</td>\n",
       "      <td>0</td>\n",
       "      <td>Friday</td>\n",
       "      <td>2</td>\n",
       "      <td>1</td>\n",
       "    </tr>\n",
       "    <tr>\n",
       "      <th>4</th>\n",
       "      <td>8.841186e+12</td>\n",
       "      <td>5642494</td>\n",
       "      <td>F</td>\n",
       "      <td>2016-04-29</td>\n",
       "      <td>2016-04-29</td>\n",
       "      <td>56</td>\n",
       "      <td>JARDIM DA PENHA</td>\n",
       "      <td>0</td>\n",
       "      <td>1</td>\n",
       "      <td>1</td>\n",
       "      <td>0</td>\n",
       "      <td>0</td>\n",
       "      <td>0</td>\n",
       "      <td>0</td>\n",
       "      <td>13:07:23</td>\n",
       "      <td>0</td>\n",
       "      <td>Friday</td>\n",
       "      <td>1</td>\n",
       "      <td>0</td>\n",
       "    </tr>\n",
       "  </tbody>\n",
       "</table>\n",
       "</div>"
      ],
      "text/plain": [
       "      PatientId  AppointmentID Gender ScheduledDay AppointmentDay  Age  \\\n",
       "0  2.987250e+13        5642903      F   2016-04-29     2016-04-29   62   \n",
       "1  5.589978e+14        5642503      M   2016-04-29     2016-04-29   56   \n",
       "2  4.262962e+12        5642549      F   2016-04-29     2016-04-29   62   \n",
       "3  8.679512e+11        5642828      F   2016-04-29     2016-04-29    8   \n",
       "4  8.841186e+12        5642494      F   2016-04-29     2016-04-29   56   \n",
       "\n",
       "       Neighbourhood  Scholarship  Hipertension  Diabetes  Alcoholism  \\\n",
       "0    JARDIM DA PENHA            0             1         0           0   \n",
       "1    JARDIM DA PENHA            0             0         0           0   \n",
       "2      MATA DA PRAIA            0             0         0           0   \n",
       "3  PONTAL DE CAMBURI            0             0         0           0   \n",
       "4    JARDIM DA PENHA            0             1         1           0   \n",
       "\n",
       "   Handcap  SMS_received  No-show ScheduledTime  Sched_to_App_Time App_DoW  \\\n",
       "0        0             0        0      15:38:08                  0  Friday   \n",
       "1        0             0        0      13:08:27                  0  Friday   \n",
       "2        0             0        0      13:19:04                  0  Friday   \n",
       "3        0             0        0      14:29:31                  0  Friday   \n",
       "4        0             0        0      13:07:23                  0  Friday   \n",
       "\n",
       "   Num_Apps  Num_NS  \n",
       "0         2       0  \n",
       "1         2       0  \n",
       "2         2       0  \n",
       "3         2       1  \n",
       "4         1       0  "
      ]
     },
     "execution_count": 2,
     "metadata": {},
     "output_type": "execute_result"
    }
   ],
   "source": [
    "# Read in the cleaned data and look at the first few rows of data\n",
    "\n",
    "df = pd.read_csv('cleaned_data.csv', index_col=0)\n",
    "df.head()"
   ]
  },
  {
   "cell_type": "code",
   "execution_count": 3,
   "metadata": {},
   "outputs": [
    {
     "data": {
      "text/html": [
       "<div>\n",
       "<style scoped>\n",
       "    .dataframe tbody tr th:only-of-type {\n",
       "        vertical-align: middle;\n",
       "    }\n",
       "\n",
       "    .dataframe tbody tr th {\n",
       "        vertical-align: top;\n",
       "    }\n",
       "\n",
       "    .dataframe thead th {\n",
       "        text-align: right;\n",
       "    }\n",
       "</style>\n",
       "<table border=\"1\" class=\"dataframe\">\n",
       "  <thead>\n",
       "    <tr style=\"text-align: right;\">\n",
       "      <th></th>\n",
       "      <th>PatientId</th>\n",
       "      <th>AppointmentID</th>\n",
       "      <th>Age</th>\n",
       "      <th>Scholarship</th>\n",
       "      <th>Hipertension</th>\n",
       "      <th>Diabetes</th>\n",
       "      <th>Alcoholism</th>\n",
       "      <th>Handcap</th>\n",
       "      <th>SMS_received</th>\n",
       "      <th>No-show</th>\n",
       "      <th>Sched_to_App_Time</th>\n",
       "      <th>Num_Apps</th>\n",
       "      <th>Num_NS</th>\n",
       "    </tr>\n",
       "  </thead>\n",
       "  <tbody>\n",
       "    <tr>\n",
       "      <th>count</th>\n",
       "      <td>1.069820e+05</td>\n",
       "      <td>1.069820e+05</td>\n",
       "      <td>106982.000000</td>\n",
       "      <td>106982.000000</td>\n",
       "      <td>106982.000000</td>\n",
       "      <td>106982.000000</td>\n",
       "      <td>106982.000000</td>\n",
       "      <td>106982.000000</td>\n",
       "      <td>106982.000000</td>\n",
       "      <td>106982.000000</td>\n",
       "      <td>106982.000000</td>\n",
       "      <td>106982.000000</td>\n",
       "      <td>106982.000000</td>\n",
       "    </tr>\n",
       "    <tr>\n",
       "      <th>mean</th>\n",
       "      <td>1.472785e+14</td>\n",
       "      <td>5.675434e+06</td>\n",
       "      <td>38.316315</td>\n",
       "      <td>0.101036</td>\n",
       "      <td>0.203782</td>\n",
       "      <td>0.074246</td>\n",
       "      <td>0.031407</td>\n",
       "      <td>0.020919</td>\n",
       "      <td>0.323279</td>\n",
       "      <td>0.202604</td>\n",
       "      <td>10.167290</td>\n",
       "      <td>3.580845</td>\n",
       "      <td>0.640173</td>\n",
       "    </tr>\n",
       "    <tr>\n",
       "      <th>std</th>\n",
       "      <td>2.558181e+14</td>\n",
       "      <td>7.133426e+04</td>\n",
       "      <td>22.466023</td>\n",
       "      <td>0.301377</td>\n",
       "      <td>0.402811</td>\n",
       "      <td>0.262172</td>\n",
       "      <td>0.174416</td>\n",
       "      <td>0.143115</td>\n",
       "      <td>0.467730</td>\n",
       "      <td>0.401942</td>\n",
       "      <td>15.263631</td>\n",
       "      <td>6.661995</td>\n",
       "      <td>1.158354</td>\n",
       "    </tr>\n",
       "    <tr>\n",
       "      <th>min</th>\n",
       "      <td>3.921784e+04</td>\n",
       "      <td>5.030230e+06</td>\n",
       "      <td>1.000000</td>\n",
       "      <td>0.000000</td>\n",
       "      <td>0.000000</td>\n",
       "      <td>0.000000</td>\n",
       "      <td>0.000000</td>\n",
       "      <td>0.000000</td>\n",
       "      <td>0.000000</td>\n",
       "      <td>0.000000</td>\n",
       "      <td>0.000000</td>\n",
       "      <td>1.000000</td>\n",
       "      <td>0.000000</td>\n",
       "    </tr>\n",
       "    <tr>\n",
       "      <th>25%</th>\n",
       "      <td>4.173345e+12</td>\n",
       "      <td>5.640488e+06</td>\n",
       "      <td>19.000000</td>\n",
       "      <td>0.000000</td>\n",
       "      <td>0.000000</td>\n",
       "      <td>0.000000</td>\n",
       "      <td>0.000000</td>\n",
       "      <td>0.000000</td>\n",
       "      <td>0.000000</td>\n",
       "      <td>0.000000</td>\n",
       "      <td>0.000000</td>\n",
       "      <td>1.000000</td>\n",
       "      <td>0.000000</td>\n",
       "    </tr>\n",
       "    <tr>\n",
       "      <th>50%</th>\n",
       "      <td>3.172598e+13</td>\n",
       "      <td>5.680744e+06</td>\n",
       "      <td>38.000000</td>\n",
       "      <td>0.000000</td>\n",
       "      <td>0.000000</td>\n",
       "      <td>0.000000</td>\n",
       "      <td>0.000000</td>\n",
       "      <td>0.000000</td>\n",
       "      <td>0.000000</td>\n",
       "      <td>0.000000</td>\n",
       "      <td>4.000000</td>\n",
       "      <td>2.000000</td>\n",
       "      <td>0.000000</td>\n",
       "    </tr>\n",
       "    <tr>\n",
       "      <th>75%</th>\n",
       "      <td>9.433627e+13</td>\n",
       "      <td>5.725639e+06</td>\n",
       "      <td>56.000000</td>\n",
       "      <td>0.000000</td>\n",
       "      <td>0.000000</td>\n",
       "      <td>0.000000</td>\n",
       "      <td>0.000000</td>\n",
       "      <td>0.000000</td>\n",
       "      <td>1.000000</td>\n",
       "      <td>0.000000</td>\n",
       "      <td>14.000000</td>\n",
       "      <td>4.000000</td>\n",
       "      <td>1.000000</td>\n",
       "    </tr>\n",
       "    <tr>\n",
       "      <th>max</th>\n",
       "      <td>9.999816e+14</td>\n",
       "      <td>5.790484e+06</td>\n",
       "      <td>115.000000</td>\n",
       "      <td>1.000000</td>\n",
       "      <td>1.000000</td>\n",
       "      <td>1.000000</td>\n",
       "      <td>1.000000</td>\n",
       "      <td>1.000000</td>\n",
       "      <td>1.000000</td>\n",
       "      <td>1.000000</td>\n",
       "      <td>179.000000</td>\n",
       "      <td>88.000000</td>\n",
       "      <td>18.000000</td>\n",
       "    </tr>\n",
       "  </tbody>\n",
       "</table>\n",
       "</div>"
      ],
      "text/plain": [
       "          PatientId  AppointmentID            Age    Scholarship  \\\n",
       "count  1.069820e+05   1.069820e+05  106982.000000  106982.000000   \n",
       "mean   1.472785e+14   5.675434e+06      38.316315       0.101036   \n",
       "std    2.558181e+14   7.133426e+04      22.466023       0.301377   \n",
       "min    3.921784e+04   5.030230e+06       1.000000       0.000000   \n",
       "25%    4.173345e+12   5.640488e+06      19.000000       0.000000   \n",
       "50%    3.172598e+13   5.680744e+06      38.000000       0.000000   \n",
       "75%    9.433627e+13   5.725639e+06      56.000000       0.000000   \n",
       "max    9.999816e+14   5.790484e+06     115.000000       1.000000   \n",
       "\n",
       "        Hipertension       Diabetes     Alcoholism        Handcap  \\\n",
       "count  106982.000000  106982.000000  106982.000000  106982.000000   \n",
       "mean        0.203782       0.074246       0.031407       0.020919   \n",
       "std         0.402811       0.262172       0.174416       0.143115   \n",
       "min         0.000000       0.000000       0.000000       0.000000   \n",
       "25%         0.000000       0.000000       0.000000       0.000000   \n",
       "50%         0.000000       0.000000       0.000000       0.000000   \n",
       "75%         0.000000       0.000000       0.000000       0.000000   \n",
       "max         1.000000       1.000000       1.000000       1.000000   \n",
       "\n",
       "        SMS_received        No-show  Sched_to_App_Time       Num_Apps  \\\n",
       "count  106982.000000  106982.000000      106982.000000  106982.000000   \n",
       "mean        0.323279       0.202604          10.167290       3.580845   \n",
       "std         0.467730       0.401942          15.263631       6.661995   \n",
       "min         0.000000       0.000000           0.000000       1.000000   \n",
       "25%         0.000000       0.000000           0.000000       1.000000   \n",
       "50%         0.000000       0.000000           4.000000       2.000000   \n",
       "75%         1.000000       0.000000          14.000000       4.000000   \n",
       "max         1.000000       1.000000         179.000000      88.000000   \n",
       "\n",
       "              Num_NS  \n",
       "count  106982.000000  \n",
       "mean        0.640173  \n",
       "std         1.158354  \n",
       "min         0.000000  \n",
       "25%         0.000000  \n",
       "50%         0.000000  \n",
       "75%         1.000000  \n",
       "max        18.000000  "
      ]
     },
     "execution_count": 3,
     "metadata": {},
     "output_type": "execute_result"
    }
   ],
   "source": [
    "df.describe()"
   ]
  },
  {
   "cell_type": "markdown",
   "metadata": {},
   "source": [
    "From just the descriptive statistics we get a lot of information. Some initial observation:\n",
    "* The average age of the individuals in the dataset is 38, but the standard deviation suggests that we'll have a pretty even representation among most age groups, with the appoints tapering off in the 60s - let's plot this later. \n",
    "* Good to see that our min values are all above zero after our data cleaning. \n",
    "* Most appointments take place within two weeks of being scheduled. It'll be interesting to see how the no-show rate changes for the 25% of appointments that are above this mark. \n",
    "\n",
    "Since our target column is the 'No-show' column, let's get a sense of the breakdown between those who went to their appointments (represented as 0) and those who missed them (represented as 1)"
   ]
  },
  {
   "cell_type": "code",
   "execution_count": 4,
   "metadata": {},
   "outputs": [
    {
     "data": {
      "text/plain": [
       "0    85307\n",
       "1    21675\n",
       "Name: No-show, dtype: int64"
      ]
     },
     "execution_count": 4,
     "metadata": {},
     "output_type": "execute_result"
    }
   ],
   "source": [
    "df['No-show'].value_counts()"
   ]
  },
  {
   "cell_type": "markdown",
   "metadata": {},
   "source": [
    "It's clear that there are more people showing up to appointments than missing them, but let's break this down into percentages and also graph the difference so we can really get a sense of the disparity. "
   ]
  },
  {
   "cell_type": "code",
   "execution_count": 5,
   "metadata": {},
   "outputs": [
    {
     "data": {
      "image/png": "[encoded data removed]",
      "text/plain": [
       "<Figure size 432x288 with 1 Axes>"
      ]
     },
     "metadata": {
      "needs_background": "light"
     },
     "output_type": "display_data"
    }
   ],
   "source": [
    "# Getting a sense of the difference visually \n",
    "\n",
    "fig = plt.figure()\n",
    "ax = sns.countplot(x='No-show', data=df, palette = 'hls')\n",
    "ax.set(xlabel='No-show', ylabel='Count')\n",
    "ax.set_xticklabels(['Showed up', 'No-Show'])\n",
    "ax.set_title('Patient Appointment Attendance')\n",
    "\n",
    "# Adding percentages to the countplot \n",
    "\n",
    "i=0\n",
    "for p in ax.patches:\n",
    "    height = p.get_height()\n",
    "    ax.text(p.get_x()+p.get_width()/2, height + 0.2,\n",
    "        df['No-show'].value_counts(normalize=True).round(decimals=3)[i],ha=\"center\")\n",
    "    i += 1\n",
    "        \n",
    "plt.show()\n",
    "fig.savefig(\"images/No-show-count.png\")"
   ]
  },
  {
   "cell_type": "markdown",
   "metadata": {},
   "source": [
    "We definitely have a class imbalance with only 20% of appointments being no-shows. This is something we will revisit when model-building. But for now, let's continue on to exploring our features, starting with the numeric features."
   ]
  },
  {
   "cell_type": "code",
   "execution_count": 6,
   "metadata": {},
   "outputs": [
    {
     "data": {
      "text/html": [
       "<div>\n",
       "<style scoped>\n",
       "    .dataframe tbody tr th:only-of-type {\n",
       "        vertical-align: middle;\n",
       "    }\n",
       "\n",
       "    .dataframe tbody tr th {\n",
       "        vertical-align: top;\n",
       "    }\n",
       "\n",
       "    .dataframe thead th {\n",
       "        text-align: right;\n",
       "    }\n",
       "</style>\n",
       "<table border=\"1\" class=\"dataframe\">\n",
       "  <thead>\n",
       "    <tr style=\"text-align: right;\">\n",
       "      <th></th>\n",
       "      <th>Age</th>\n",
       "      <th>Sched_to_App_Time</th>\n",
       "    </tr>\n",
       "    <tr>\n",
       "      <th>No-show</th>\n",
       "      <th></th>\n",
       "      <th></th>\n",
       "    </tr>\n",
       "  </thead>\n",
       "  <tbody>\n",
       "    <tr>\n",
       "      <th>0</th>\n",
       "      <td>39.075187</td>\n",
       "      <td>8.737794</td>\n",
       "    </tr>\n",
       "    <tr>\n",
       "      <th>1</th>\n",
       "      <td>35.329596</td>\n",
       "      <td>15.793403</td>\n",
       "    </tr>\n",
       "  </tbody>\n",
       "</table>\n",
       "</div>"
      ],
      "text/plain": [
       "               Age  Sched_to_App_Time\n",
       "No-show                              \n",
       "0        39.075187           8.737794\n",
       "1        35.329596          15.793403"
      ]
     },
     "execution_count": 6,
     "metadata": {},
     "output_type": "execute_result"
    }
   ],
   "source": [
    "df.groupby('No-show')[['Age','Sched_to_App_Time']].mean()"
   ]
  },
  {
   "cell_type": "markdown",
   "metadata": {},
   "source": [
    "Interesting, while the ages for shows/ no-shows are pretty close together, the 'schedule to appointment times' vary quite a bit. In fact, the no-shows all fall above the 75th percentile for this feature - we will see if this leads to a correlation between the variables when we plot a heatmap later on in our exploration.\n",
    "\n",
    "In the meantime, why don't we look at a plot of the age distribution to confirm our observations about its spread."
   ]
  },
  {
   "cell_type": "code",
   "execution_count": 7,
   "metadata": {},
   "outputs": [
    {
     "data": {
      "image/png": "[encoded data removed]",
      "text/plain": [
       "<Figure size 432x288 with 1 Axes>"
      ]
     },
     "metadata": {
      "needs_background": "light"
     },
     "output_type": "display_data"
    }
   ],
   "source": [
    "ax = sns.distplot(a=df['Age'],hist = True, bins=10)\n",
    "ax.set(xlabel='Age', ylabel='Count')\n",
    "ax.set_title('Patient Age')\n",
    "plt.show()"
   ]
  },
  {
   "cell_type": "markdown",
   "metadata": {},
   "source": [
    "As expected, patients are distributed quite evenly across age ranges, with appointments tapering down after the age of 70. Let's look at whether patients who have the most appointments scheduled have a higher no-show rate. After all, one would initially think that if there's a strain of attending many appointments, an individual would be likelier to miss a few. "
   ]
  },
  {
   "cell_type": "code",
   "execution_count": 8,
   "metadata": {},
   "outputs": [
    {
     "data": {
      "text/html": [
       "<div>\n",
       "<style scoped>\n",
       "    .dataframe tbody tr th:only-of-type {\n",
       "        vertical-align: middle;\n",
       "    }\n",
       "\n",
       "    .dataframe tbody tr th {\n",
       "        vertical-align: top;\n",
       "    }\n",
       "\n",
       "    .dataframe thead th {\n",
       "        text-align: right;\n",
       "    }\n",
       "</style>\n",
       "<table border=\"1\" class=\"dataframe\">\n",
       "  <thead>\n",
       "    <tr style=\"text-align: right;\">\n",
       "      <th></th>\n",
       "      <th>Num_Apps</th>\n",
       "      <th>Num_NS</th>\n",
       "    </tr>\n",
       "    <tr>\n",
       "      <th>PatientId</th>\n",
       "      <th></th>\n",
       "      <th></th>\n",
       "    </tr>\n",
       "  </thead>\n",
       "  <tbody>\n",
       "    <tr>\n",
       "      <th>8.221459e+14</th>\n",
       "      <td>88</td>\n",
       "      <td>1</td>\n",
       "    </tr>\n",
       "    <tr>\n",
       "      <th>9.963767e+10</th>\n",
       "      <td>84</td>\n",
       "      <td>4</td>\n",
       "    </tr>\n",
       "    <tr>\n",
       "      <th>2.688613e+13</th>\n",
       "      <td>70</td>\n",
       "      <td>0</td>\n",
       "    </tr>\n",
       "    <tr>\n",
       "      <th>3.353478e+13</th>\n",
       "      <td>65</td>\n",
       "      <td>0</td>\n",
       "    </tr>\n",
       "    <tr>\n",
       "      <th>6.264199e+12</th>\n",
       "      <td>62</td>\n",
       "      <td>3</td>\n",
       "    </tr>\n",
       "    <tr>\n",
       "      <th>7.579746e+13</th>\n",
       "      <td>62</td>\n",
       "      <td>2</td>\n",
       "    </tr>\n",
       "    <tr>\n",
       "      <th>8.713749e+14</th>\n",
       "      <td>62</td>\n",
       "      <td>3</td>\n",
       "    </tr>\n",
       "    <tr>\n",
       "      <th>2.584244e+11</th>\n",
       "      <td>62</td>\n",
       "      <td>0</td>\n",
       "    </tr>\n",
       "    <tr>\n",
       "      <th>6.684488e+13</th>\n",
       "      <td>57</td>\n",
       "      <td>1</td>\n",
       "    </tr>\n",
       "    <tr>\n",
       "      <th>8.722785e+11</th>\n",
       "      <td>55</td>\n",
       "      <td>1</td>\n",
       "    </tr>\n",
       "  </tbody>\n",
       "</table>\n",
       "</div>"
      ],
      "text/plain": [
       "              Num_Apps  Num_NS\n",
       "PatientId                     \n",
       "8.221459e+14        88       1\n",
       "9.963767e+10        84       4\n",
       "2.688613e+13        70       0\n",
       "3.353478e+13        65       0\n",
       "6.264199e+12        62       3\n",
       "7.579746e+13        62       2\n",
       "8.713749e+14        62       3\n",
       "2.584244e+11        62       0\n",
       "6.684488e+13        57       1\n",
       "8.722785e+11        55       1"
      ]
     },
     "execution_count": 8,
     "metadata": {},
     "output_type": "execute_result"
    }
   ],
   "source": [
    "df.groupby('PatientId')[['Num_Apps', 'Num_NS']].mean().sort_values('Num_Apps', ascending=False).head(10)"
   ]
  },
  {
   "cell_type": "markdown",
   "metadata": {},
   "source": [
    "Even though there are a few appointments missed by the patients with the most scheduled, the numbers aren't particularly egregrious. Patients are missing 4-5% of their appointments in these upper tiers, but I imagine they aren't the biggest offenders. Let's re-sort this data by the individuals who have missed the most appointments (rather than have the most scheduled), and pull in a few other columns to see if we can spot some trends."
   ]
  },
  {
   "cell_type": "code",
   "execution_count": 9,
   "metadata": {},
   "outputs": [
    {
     "data": {
      "text/html": [
       "<div>\n",
       "<style scoped>\n",
       "    .dataframe tbody tr th:only-of-type {\n",
       "        vertical-align: middle;\n",
       "    }\n",
       "\n",
       "    .dataframe tbody tr th {\n",
       "        vertical-align: top;\n",
       "    }\n",
       "\n",
       "    .dataframe thead th {\n",
       "        text-align: right;\n",
       "    }\n",
       "</style>\n",
       "<table border=\"1\" class=\"dataframe\">\n",
       "  <thead>\n",
       "    <tr style=\"text-align: right;\">\n",
       "      <th></th>\n",
       "      <th>Num_NS</th>\n",
       "      <th>Num_Apps</th>\n",
       "      <th>Age</th>\n",
       "      <th>SMS_received</th>\n",
       "      <th>Scholarship</th>\n",
       "      <th>Hipertension</th>\n",
       "      <th>Diabetes</th>\n",
       "      <th>Alcoholism</th>\n",
       "      <th>Handcap</th>\n",
       "    </tr>\n",
       "    <tr>\n",
       "      <th>PatientId</th>\n",
       "      <th></th>\n",
       "      <th></th>\n",
       "      <th></th>\n",
       "      <th></th>\n",
       "      <th></th>\n",
       "      <th></th>\n",
       "      <th></th>\n",
       "      <th></th>\n",
       "      <th></th>\n",
       "    </tr>\n",
       "  </thead>\n",
       "  <tbody>\n",
       "    <tr>\n",
       "      <th>1.421987e+12</th>\n",
       "      <td>18.0</td>\n",
       "      <td>18.0</td>\n",
       "      <td>9.000000</td>\n",
       "      <td>0.000000</td>\n",
       "      <td>0.0</td>\n",
       "      <td>0.0</td>\n",
       "      <td>0.0</td>\n",
       "      <td>0.0</td>\n",
       "      <td>1.0</td>\n",
       "    </tr>\n",
       "    <tr>\n",
       "      <th>5.635135e+14</th>\n",
       "      <td>16.0</td>\n",
       "      <td>16.0</td>\n",
       "      <td>9.000000</td>\n",
       "      <td>0.000000</td>\n",
       "      <td>1.0</td>\n",
       "      <td>0.0</td>\n",
       "      <td>0.0</td>\n",
       "      <td>0.0</td>\n",
       "      <td>0.0</td>\n",
       "    </tr>\n",
       "    <tr>\n",
       "      <th>5.587790e+12</th>\n",
       "      <td>15.0</td>\n",
       "      <td>20.0</td>\n",
       "      <td>14.000000</td>\n",
       "      <td>0.000000</td>\n",
       "      <td>0.0</td>\n",
       "      <td>0.0</td>\n",
       "      <td>0.0</td>\n",
       "      <td>0.0</td>\n",
       "      <td>0.0</td>\n",
       "    </tr>\n",
       "    <tr>\n",
       "      <th>5.811973e+14</th>\n",
       "      <td>14.0</td>\n",
       "      <td>14.0</td>\n",
       "      <td>7.000000</td>\n",
       "      <td>0.000000</td>\n",
       "      <td>0.0</td>\n",
       "      <td>0.0</td>\n",
       "      <td>0.0</td>\n",
       "      <td>0.0</td>\n",
       "      <td>0.0</td>\n",
       "    </tr>\n",
       "    <tr>\n",
       "      <th>6.575144e+13</th>\n",
       "      <td>13.0</td>\n",
       "      <td>13.0</td>\n",
       "      <td>14.000000</td>\n",
       "      <td>0.000000</td>\n",
       "      <td>0.0</td>\n",
       "      <td>0.0</td>\n",
       "      <td>0.0</td>\n",
       "      <td>0.0</td>\n",
       "      <td>0.0</td>\n",
       "    </tr>\n",
       "    <tr>\n",
       "      <th>1.198157e+12</th>\n",
       "      <td>12.0</td>\n",
       "      <td>23.0</td>\n",
       "      <td>10.434783</td>\n",
       "      <td>0.000000</td>\n",
       "      <td>1.0</td>\n",
       "      <td>0.0</td>\n",
       "      <td>0.0</td>\n",
       "      <td>0.0</td>\n",
       "      <td>0.0</td>\n",
       "    </tr>\n",
       "    <tr>\n",
       "      <th>4.768616e+11</th>\n",
       "      <td>11.0</td>\n",
       "      <td>12.0</td>\n",
       "      <td>43.000000</td>\n",
       "      <td>0.416667</td>\n",
       "      <td>1.0</td>\n",
       "      <td>0.0</td>\n",
       "      <td>0.0</td>\n",
       "      <td>0.0</td>\n",
       "      <td>0.0</td>\n",
       "    </tr>\n",
       "    <tr>\n",
       "      <th>2.491637e+14</th>\n",
       "      <td>11.0</td>\n",
       "      <td>18.0</td>\n",
       "      <td>8.000000</td>\n",
       "      <td>0.000000</td>\n",
       "      <td>0.0</td>\n",
       "      <td>0.0</td>\n",
       "      <td>0.0</td>\n",
       "      <td>0.0</td>\n",
       "      <td>0.0</td>\n",
       "    </tr>\n",
       "    <tr>\n",
       "      <th>9.715136e+12</th>\n",
       "      <td>11.0</td>\n",
       "      <td>20.0</td>\n",
       "      <td>12.000000</td>\n",
       "      <td>0.000000</td>\n",
       "      <td>0.0</td>\n",
       "      <td>0.0</td>\n",
       "      <td>0.0</td>\n",
       "      <td>0.0</td>\n",
       "      <td>0.0</td>\n",
       "    </tr>\n",
       "    <tr>\n",
       "      <th>2.728422e+12</th>\n",
       "      <td>11.0</td>\n",
       "      <td>15.0</td>\n",
       "      <td>44.000000</td>\n",
       "      <td>0.333333</td>\n",
       "      <td>0.0</td>\n",
       "      <td>0.0</td>\n",
       "      <td>0.0</td>\n",
       "      <td>0.0</td>\n",
       "      <td>0.0</td>\n",
       "    </tr>\n",
       "  </tbody>\n",
       "</table>\n",
       "</div>"
      ],
      "text/plain": [
       "              Num_NS  Num_Apps        Age  SMS_received  Scholarship  \\\n",
       "PatientId                                                              \n",
       "1.421987e+12    18.0      18.0   9.000000      0.000000          0.0   \n",
       "5.635135e+14    16.0      16.0   9.000000      0.000000          1.0   \n",
       "5.587790e+12    15.0      20.0  14.000000      0.000000          0.0   \n",
       "5.811973e+14    14.0      14.0   7.000000      0.000000          0.0   \n",
       "6.575144e+13    13.0      13.0  14.000000      0.000000          0.0   \n",
       "1.198157e+12    12.0      23.0  10.434783      0.000000          1.0   \n",
       "4.768616e+11    11.0      12.0  43.000000      0.416667          1.0   \n",
       "2.491637e+14    11.0      18.0   8.000000      0.000000          0.0   \n",
       "9.715136e+12    11.0      20.0  12.000000      0.000000          0.0   \n",
       "2.728422e+12    11.0      15.0  44.000000      0.333333          0.0   \n",
       "\n",
       "              Hipertension  Diabetes  Alcoholism  Handcap  \n",
       "PatientId                                                  \n",
       "1.421987e+12           0.0       0.0         0.0      1.0  \n",
       "5.635135e+14           0.0       0.0         0.0      0.0  \n",
       "5.587790e+12           0.0       0.0         0.0      0.0  \n",
       "5.811973e+14           0.0       0.0         0.0      0.0  \n",
       "6.575144e+13           0.0       0.0         0.0      0.0  \n",
       "1.198157e+12           0.0       0.0         0.0      0.0  \n",
       "4.768616e+11           0.0       0.0         0.0      0.0  \n",
       "2.491637e+14           0.0       0.0         0.0      0.0  \n",
       "9.715136e+12           0.0       0.0         0.0      0.0  \n",
       "2.728422e+12           0.0       0.0         0.0      0.0  "
      ]
     },
     "execution_count": 9,
     "metadata": {},
     "output_type": "execute_result"
    }
   ],
   "source": [
    "df.groupby('PatientId')[['Num_NS', 'Num_Apps', 'Age', 'SMS_received', 'Scholarship','Hipertension', 'Diabetes','Alcoholism', 'Handcap']].mean().sort_values('Num_NS', ascending=False).head(10)"
   ]
  },
  {
   "cell_type": "markdown",
   "metadata": {},
   "source": [
    "We can see that 8 out of 10 of these top-no-show individuals are minors, suggesting that perhaps they missed their appointments because their parents weren't able to bring them - we can also note that the two adults in this sample received texts for at least some of their appointments, whereas the children didn't receive any. Perhaps their parents' information wasn't recorded and health care professionals couldn't send a reminder? This could be an area of improvement for administrators if it turns out text messages decrease no-shows. \n",
    "\n",
    "Let's have one more numeric exploration before moving on to our categorical variables. Given that 75% of appointments take place within two weeks of being scheduled, let's see what the distribution of data looks like for the remaining 25%."
   ]
  },
  {
   "cell_type": "code",
   "execution_count": 10,
   "metadata": {},
   "outputs": [
    {
     "data": {
      "image/png": "[encoded data removed]",
      "text/plain": [
       "<Figure size 432x288 with 1 Axes>"
      ]
     },
     "metadata": {
      "needs_background": "light"
     },
     "output_type": "display_data"
    },
    {
     "name": "stdout",
     "output_type": "stream",
     "text": [
      "[39. 69. 77.]\n"
     ]
    }
   ],
   "source": [
    "fig = plt.figure()\n",
    "ax = sns.boxplot(x='Sched_to_App_Time', data=df, palette='hls')\n",
    "ax.set(xlabel='Scheduling to Appointment Time (days)')\n",
    "ax.set_title('Scheduling to Appointment Time')\n",
    "plt.show()\n",
    "fig.savefig(\"images/Sched-to-app-time.png\")\n",
    "\n",
    "print(np.percentile(df['Sched_to_App_Time'], [95,99,99.5]))"
   ]
  },
  {
   "cell_type": "markdown",
   "metadata": {},
   "source": [
    "Looks like there are quite a few outliers - let's calculate the proportion of outliers in this column."
   ]
  },
  {
   "cell_type": "code",
   "execution_count": 11,
   "metadata": {},
   "outputs": [
    {
     "data": {
      "text/plain": [
       "0.29631152904226876"
      ]
     },
     "execution_count": 11,
     "metadata": {},
     "output_type": "execute_result"
    }
   ],
   "source": [
    "#define a function that detects outliers\n",
    "outliers=[]\n",
    "def detect_outlier(data):\n",
    "    \"\"\"\n",
    "    Calculate the mean and std for the data, and set a threshold for the outliers \n",
    "    \"\"\"\n",
    "    # Setting the threshold to 3 STD since most of the dataset is so compact \n",
    "    \n",
    "    threshold=5\n",
    "    mean = np.mean(data)\n",
    "    std =np.std(data)\n",
    "    \n",
    "    # Loop through the rows of our column\n",
    "    \n",
    "    for y in data:\n",
    "        z_score= (y - mean)/std \n",
    "        if np.abs(z_score) > threshold:\n",
    "            outliers.append(y)\n",
    "    return outliers\n",
    "\n",
    "# Divide the length of the outliers by the length of the column to get the percentage of outliers \n",
    "\n",
    "len(detect_outlier(df['Sched_to_App_Time']))/len(df['Sched_to_App_Time'])* 100"
   ]
  },
  {
   "cell_type": "markdown",
   "metadata": {},
   "source": [
    "While the boxplot initially suggested that we had quite a number of outliers, upon further inspection they only represent 0.29% of our dataset, and thus shouldn't throw off our modelling. \n",
    "\n",
    "Let's move on to examining our categorical variables, focusing on gender, neighbourhoods, and day of the week of the appointment. "
   ]
  },
  {
   "cell_type": "code",
   "execution_count": 12,
   "metadata": {},
   "outputs": [
    {
     "data": {
      "image/png": "[encoded data removed]",
      "text/plain": [
       "<Figure size 411x360 with 1 Axes>"
      ]
     },
     "metadata": {
      "needs_background": "light"
     },
     "output_type": "display_data"
    }
   ],
   "source": [
    "order = ['Monday', 'Tuesday', 'Wednesday', 'Thursday', 'Friday']\n",
    "ax = sns.catplot(x=\"App_DoW\", kind=\"count\", data=df, hue = 'No-show', order=order, palette='hls')\n",
    "ax.set(xlabel='Day of the Week', ylabel='Count', title='Day of the Week for Cancelled Appointments')\n",
    "ax.set_xticklabels(rotation=25)\n",
    "plt.show()"
   ]
  },
  {
   "cell_type": "markdown",
   "metadata": {},
   "source": [
    "It seems that the days of the week that have the most appointments scheduled also have the most appointments cancelled. Let's see if there are any trends when we do a gender breakdown."
   ]
  },
  {
   "cell_type": "code",
   "execution_count": 13,
   "metadata": {},
   "outputs": [
    {
     "data": {
      "image/png": "[encoded data removed]",
      "text/plain": [
       "<Figure size 411x360 with 1 Axes>"
      ]
     },
     "metadata": {
      "needs_background": "light"
     },
     "output_type": "display_data"
    }
   ],
   "source": [
    "ax = sns.catplot(x=\"Gender\", kind=\"count\", data=df, hue = 'No-show', palette='hls')\n",
    "ax.set(xlabel='Gender', ylabel='Count', title='Cancelled Appointments by Gender')\n",
    "plt.show()"
   ]
  },
  {
   "cell_type": "markdown",
   "metadata": {},
   "source": [
    "Again, while we can see that while women don't show up to more appointments than men, they're also scheduling far more appointments, so this metric seems to be proportional. Finally, we'll end our categorical exploration with a neighbourhood breakdown. Since there are over 80 neighbourhoods in the dataset, let's look at the ones with the highest proportion of no-shows."
   ]
  },
  {
   "cell_type": "code",
   "execution_count": 14,
   "metadata": {},
   "outputs": [
    {
     "name": "stdout",
     "output_type": "stream",
     "text": [
      "                             Num_Apps  Num_NS  Percentage\n",
      "Neighbourhood                                            \n",
      "ILHAS OCEÂNICAS DE TRINDADE         2       2    1.000000\n",
      "SANTOS DUMONT                    3665    1055    0.291433\n",
      "SANTA CECÍLIA                    1431     320    0.270880\n",
      "SANTA CLARA                      1502     373    0.266129\n",
      "ITARARÉ                          8576    2293    0.263189\n",
      "JESUS DE NAZARETH               11623    2134    0.248621\n",
      "ILHA DO PRÍNCIPE                 7850    2047    0.236274\n",
      "CARATOÍRA                        7097    1620    0.235436\n",
      "ANDORINHAS                       7677    1988    0.231891\n",
      "HORTO                             640      78    0.228916\n",
      "PRAIA DO SUÁ                     3115     702    0.228753\n",
      "ARIOVALDO FAVALESSA               604     150    0.227612\n",
      "ILHA DAS CAIEIRAS                3678     859    0.226471\n",
      "DO MOSCOSO                       1359     231    0.225316\n",
      "GURIGICA                         6021    1377    0.225197\n",
      "MARUÍPE                          5903    1271    0.224665\n",
      "BENTO FERREIRA                   5099     544    0.223793\n",
      "ENSEADA DO SUÁ                    617     104    0.222707\n",
      "PARQUE MOSCOSO                   1865     366    0.222503\n",
      "FONTE GRANDE                     1765     422    0.221889\n"
     ]
    },
    {
     "data": {
      "image/png": "[encoded data removed]",
      "text/plain": [
       "<Figure size 432x288 with 1 Axes>"
      ]
     },
     "metadata": {
      "needs_background": "light"
     },
     "output_type": "display_data"
    }
   ],
   "source": [
    "# Create a dataframe with the sum of the 'No-show' columns for each neighbourhood, \n",
    "# followed by a dataframe that contains the percentage of appointments that were no-shows\n",
    "# in the neighbourhood. \n",
    "\n",
    "n_sorted = df.groupby('Neighbourhood').sum().sort_values('No-show', ascending=False)\n",
    "len_df = df.groupby('Neighbourhood')['AppointmentID'].count()\n",
    "n_sorted['Percentage'] = n_sorted['No-show']/len_df\n",
    "print(n_sorted.sort_values('Percentage', ascending=False)[['Num_Apps','Num_NS','Percentage']][:20])\n",
    "\n",
    "perc_sorted = n_sorted.sort_values('Percentage', ascending=False)[1:21]\n",
    "\n",
    "# We plot the 20 neighbourhoods with the highest percent cancellations (the \n",
    "# top neighbourhood wasn't included because it had a no-show rate of 100%, \n",
    "# but only 2 appointments).\n",
    "\n",
    "fig = plt.figure()\n",
    "ax = sns.barplot(x=perc_sorted.index, y='Percentage', data=perc_sorted, palette='hls')\n",
    "ax.set(xlabel='Neighbourhood', ylabel='Percentage', title='Percent of Appointments Cancelled')\n",
    "ax.set_xticklabels(ax.get_xticklabels(),rotation=45,horizontalalignment='right')\n",
    "ax.set(ylim = (0.2,0.3))\n",
    "\n",
    "plt.show()\n",
    "fig.savefig(\"images/Neighbourhoods.png\")\n"
   ]
  },
  {
   "cell_type": "markdown",
   "metadata": {},
   "source": [
    "From these results, we can see that a few neighbourhoods have somewhat higher no-show rates, but once you get past the first 5, you're within 2 percentage points of the mean cancellation rate. \n",
    "\n",
    "Let's finish by plotting a heatmap looking at the correlation between all of our numeric variables."
   ]
  },
  {
   "cell_type": "code",
   "execution_count": 15,
   "metadata": {},
   "outputs": [
    {
     "data": {
      "text/plain": [
       "Index(['PatientId', 'AppointmentID', 'Gender', 'ScheduledDay',\n",
       "       'AppointmentDay', 'Age', 'Neighbourhood', 'Scholarship', 'Hipertension',\n",
       "       'Diabetes', 'Alcoholism', 'Handcap', 'SMS_received', 'No-show',\n",
       "       'ScheduledTime', 'Sched_to_App_Time', 'App_DoW', 'Num_Apps', 'Num_NS'],\n",
       "      dtype='object')"
      ]
     },
     "execution_count": 15,
     "metadata": {},
     "output_type": "execute_result"
    }
   ],
   "source": [
    "df.columns"
   ]
  },
  {
   "cell_type": "code",
   "execution_count": 16,
   "metadata": {},
   "outputs": [
    {
     "data": {
      "image/png": "[encoded data removed]",
      "text/plain": [
       "<Figure size 432x288 with 2 Axes>"
      ]
     },
     "metadata": {
      "needs_background": "light"
     },
     "output_type": "display_data"
    }
   ],
   "source": [
    "fig = plt.figure()\n",
    "cmap = sns.diverging_palette(220, 10, as_cmap=True)\n",
    "sns.heatmap(df[['No-show','Sched_to_App_Time','Age','Scholarship','Hipertension',\n",
    "       'Diabetes', 'Alcoholism', 'Handcap', 'SMS_received']].corr(),vmax=.3, center=0, cmap=cmap,\n",
    "            square=True, linewidths=.5, cbar_kws={\"shrink\": .5})\n",
    "plt.show()\n",
    "fig.savefig(\"images/corr-heatmap.png\")"
   ]
  },
  {
   "cell_type": "markdown",
   "metadata": {},
   "source": [
    "# Conclusion\n",
    "\n",
    "We can see that the two most meaningful variables for the 'no-show' column are:\n",
    "\n",
    "* <b> Sched_to_App_Time: </b> The time between scheduling an appointment and having it take place\n",
    "* <b> SMS_received: </b> Whether a patient has received a text message about their appointment \n",
    "\n",
    "This is a great result from a business standpoint because it suggests that the key factors contributing to appointment retention are within the control of healthcare practitioners. \n",
    "\n",
    "Our next step is to build and calibrate models that can predict whether a patient will show up to their appointment. Our observations here have led to the following conclusions which will help with feature selection:\n",
    "\n",
    "* No-shows make up 20% of our dataset, so we will have to account for the imbalanced class before modeling \n",
    "* The age of those who attend appointments and are no-shows are very close, and there isn't a good correlation between age and being a no-show. That said, we found that among the people who missed the most appointments, the majority were minors, so age might matter at the extremes. \n",
    "* Counterintuitively, individuals with a lot of appointments don't seem to frequently no-show \n",
    "* While our boxplot seemed to show that there were a lot of appointments that were scheduled over two weeks out, in reality only 0.29% of our observations were outliers. \n",
    "* Day of the week and gender both had no effect on no-show rate \n",
    "* No-show rate did not very much across neighbourhoods\n",
    "\n",
    "We will move on to model building in the <code>02_Model_Building</code> notebook."
   ]
  }
 ],
 "metadata": {
  "kernelspec": {
   "display_name": "Python 3",
   "language": "python",
   "name": "python3"
  },
  "language_info": {
   "codemirror_mode": {
    "name": "ipython",
    "version": 3
   },
   "file_extension": ".py",
   "mimetype": "text/x-python",
   "name": "python",
   "nbconvert_exporter": "python",
   "pygments_lexer": "ipython3",
   "version": "3.8.3"
  }
 },
 "nbformat": 4,
 "nbformat_minor": 4
}
